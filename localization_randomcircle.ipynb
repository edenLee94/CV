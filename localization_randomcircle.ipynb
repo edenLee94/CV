{
  "nbformat": 4,
  "nbformat_minor": 0,
  "metadata": {
    "colab": {
      "name": "localization_randomcircle.ipynb",
      "provenance": [],
      "collapsed_sections": [],
      "include_colab_link": true
    },
    "kernelspec": {
      "name": "python3",
      "display_name": "Python 3"
    },
    "accelerator": "GPU"
  },
  "cells": [
    {
      "cell_type": "markdown",
      "metadata": {
        "id": "view-in-github",
        "colab_type": "text"
      },
      "source": [
        "<a href=\"https://colab.research.google.com/github/edenLee94/CV/blob/main/localization_randomcircle.ipynb\" target=\"_parent\"><img src=\"https://colab.research.google.com/assets/colab-badge.svg\" alt=\"Open In Colab\"/></a>"
      ]
    },
    {
      "cell_type": "markdown",
      "source": [
        "## object detection\n",
        "object detection에서 classfication과 localization을 통해서 진행하기 때문에 해당 학습을 진행했다.\n",
        "\n",
        "### 진행 순서\n",
        "이미지를 generate했으며, CNN을 진행해서 feature extracte했고, FC layer을 통해서 3개의 값을 비교한다."
      ],
      "metadata": {
        "id": "4aEG-7WKyrLa"
      }
    },
    {
      "cell_type": "code",
      "metadata": {
        "id": "SbTYm8kvfCOo"
      },
      "source": [
        "import cv2\n",
        "import numpy as np\n",
        "import matplotlib.pyplot as plt\n",
        "import random;\n",
        "import tqdm;"
      ],
      "execution_count": 1,
      "outputs": []
    },
    {
      "cell_type": "code",
      "metadata": {
        "id": "5pUiMR3Lgcnt",
        "colab": {
          "base_uri": "https://localhost:8080/",
          "height": 269
        },
        "outputId": "f5c66016-da9f-4873-de55-446358658ec2"
      },
      "source": [
        "IMAGE_SIZE = 200;\n",
        "rad = random.randint(5,50);\n",
        "c_x = random.randint(rad,IMAGE_SIZE-rad); \n",
        "# Image_size - rad를 통해서 원이 잘리지 않게 설정해주기\n",
        "c_y = random.randint(rad,IMAGE_SIZE-rad);\n",
        "# 크기도 5~50, 위치도 랜덤하게 원을 그린다.\n",
        "blank_image = np.ones(shape=[IMAGE_SIZE, IMAGE_SIZE], dtype=np.uint8)\n",
        "cv2.circle(blank_image, (c_x,c_y), rad, 0, -1);\n",
        "plt.imshow(blank_image);"
      ],
      "execution_count": 2,
      "outputs": [
        {
          "output_type": "display_data",
          "data": {
            "text/plain": [
              "<Figure size 432x288 with 1 Axes>"
            ],
            "image/png": "[encoded data removed]"
          },
          "metadata": {
            "needs_background": "light"
          }
        }
      ]
    },
    {
      "cell_type": "code",
      "metadata": {
        "id": "lcE-YsgNhCsO"
      },
      "source": [
        "def create_training_Data():\n",
        "  l = 10000;\n",
        "  X_train = np.zeros(shape=[l,IMAGE_SIZE, IMAGE_SIZE,1]);\n",
        "  Y_train = np.zeros(shape = [l,3]);\n",
        "  for i in range(l): # 10,000개 생성한다.\n",
        "    rad = random.randint(5,50);\n",
        "    c_x = random.randint(rad,IMAGE_SIZE-rad);\n",
        "    c_y = random.randint(rad,IMAGE_SIZE-rad);\n",
        "    Y_train[i,0]= c_x/IMAGE_SIZE;\n",
        "    Y_train[i,1] = c_y/IMAGE_SIZE;\n",
        "    Y_train[i,2] = rad/IMAGE_SIZE;\n",
        "    blank_image = np.ones(shape=[IMAGE_SIZE, IMAGE_SIZE], dtype=np.uint8);\n",
        "    X_train[i,:,:,0] = cv2.circle(blank_image, (c_x,c_y), rad, 0, -1);\n",
        "  return {'X_Train' : X_train, 'Y_Train': Y_train};\n",
        "  "
      ],
      "execution_count": 3,
      "outputs": []
    },
    {
      "cell_type": "code",
      "metadata": {
        "id": "Eju_-oQkh0zG"
      },
      "source": [
        "training_Data = create_training_Data();"
      ],
      "execution_count": 4,
      "outputs": []
    },
    {
      "cell_type": "code",
      "metadata": {
        "id": "n7u2vq6Oinm_",
        "colab": {
          "base_uri": "https://localhost:8080/",
          "height": 287
        },
        "outputId": "df48036f-59af-4b4a-b545-e1667ba9fa67"
      },
      "source": [
        "plt.imshow(training_Data['X_Train'][1999].reshape(200,200))\n",
        "IMAGE_SIZE*training_Data['Y_Train'][1999]"
      ],
      "execution_count": 5,
      "outputs": [
        {
          "output_type": "execute_result",
          "data": {
            "text/plain": [
              "array([25., 85., 25.])"
            ]
          },
          "metadata": {},
          "execution_count": 5
        },
        {
          "output_type": "display_data",
          "data": {
            "text/plain": [
              "<Figure size 432x288 with 1 Axes>"
            ],
            "image/png": "[encoded data removed]"
          },
          "metadata": {
            "needs_background": "light"
          }
        }
      ]
    },
    {
      "cell_type": "code",
      "metadata": {
        "id": "0-tO8xmui4Pm"
      },
      "source": [
        "import tensorflow\n",
        "from tensorflow.keras import layers\n",
        "from tensorflow.keras import Model"
      ],
      "execution_count": 6,
      "outputs": []
    },
    {
      "cell_type": "markdown",
      "source": [
        "Conv 필터는 이미지의 특정 패턴을 잡아내는데 사용됩니다. 초반에 위치한 Layer들은 주로 사물을 구성하는 edge나 corner와 같은 좀 더 상세한 패턴을 잡아냅니다."
      ],
      "metadata": {
        "id": "bVn0Er5F4JBo"
      }
    },
    {
      "cell_type": "markdown",
      "source": [
        "x = Input(shape=(28, 28, 3)) \n",
        "\n",
        "Conv2D(filters=32, kernel_size =(3, 3))\n",
        "\n",
        "먼저 3차원 Conv 필터를 만듭니다. 이때 하나의 3차원 Conv 필터는 가로와 세로가 3x3(kernel_size=(3,3) 이므로) 이고 채널수(깊이)가 3인 3x3x3 필터가 됩니다.채널수가 3인 이유는 Input shape가 28x28x3 으로 Input의 채널수가 3이기 때문에 이와 동일한 채널수를 반드시 가져야 하기 때문입니다. \n",
        "\n",
        "다음으로 Conv2D()의 filters=32 이므로 이러한 3차원 Conv 필터를 32개를 만들게 됩니다. 즉 형태가 3x3x3인 3차원 Conv 필터를 32개를 가지게 되므로 parameter 수는 3x3x3x32 가 됩니다(bias 까지 생각하면 3x3x3x32 + 32) "
      ],
      "metadata": {
        "id": "1fmPMgvz4m1Y"
      }
    },
    {
      "cell_type": "code",
      "metadata": {
        "colab": {
          "base_uri": "https://localhost:8080/"
        },
        "id": "KEimjOVSWNtP",
        "outputId": "741f2395-a62c-4789-f784-c18902428186"
      },
      "source": [
        "img_input = layers.Input(shape=(IMAGE_SIZE, IMAGE_SIZE, 1)) # RGB파일 아니라서 channel이 1개로 입력\n",
        "\n",
        "x = layers.Conv2D(5,3,activation='relu', strides=1, padding=\"same\")(img_input)\n",
        "                  # filter 개수 =5, filter kernel 크기=3\n",
        "x = layers.MaxPool2D(pool_size=2)(x) # maxpooling을 통해서 (output shape)크기가 줄어들었다.\n",
        "x = layers.Conv2D(10,3,activation='relu', strides=1)(x) # padding을 안했기 때문에 100->98로 2만큼 줄어들었다.\n",
        "x = layers.MaxPool2D(pool_size=2)(x)\n",
        "x = layers.Conv2D(20,3,activation='relu', strides=1)(x)\n",
        "x = layers.MaxPool2D(pool_size=2)(x)\n",
        "x = layers.Conv2D(3,5,activation='relu', strides=1)(x)\n",
        "                  # 커널의 크기가 5이니까 (output shape)크기가 4만큼 줄어든다.\n",
        "x = layers.Flatten()(x)\n",
        "output= layers.Dense(3, activation='relu')(x)\n",
        "# classfication이 아니라서 relu를 통해서 진행해도 된다.\n",
        "# output => 3개\n",
        "model = Model(img_input, output)\n",
        "\n",
        "model.summary()"
      ],
      "execution_count": 7,
      "outputs": [
        {
          "output_type": "stream",
          "name": "stdout",
          "text": [
            "Model: \"model\"\n",
            "_________________________________________________________________\n",
            " Layer (type)                Output Shape              Param #   \n",
            "=================================================================\n",
            " input_1 (InputLayer)        [(None, 200, 200, 1)]     0         \n",
            "                                                                 \n",
            " conv2d (Conv2D)             (None, 200, 200, 5)       50        \n",
            "                                                                 \n",
            " max_pooling2d (MaxPooling2D  (None, 100, 100, 5)      0         \n",
            " )                                                               \n",
            "                                                                 \n",
            " conv2d_1 (Conv2D)           (None, 98, 98, 10)        460       \n",
            "                                                                 \n",
            " max_pooling2d_1 (MaxPooling  (None, 49, 49, 10)       0         \n",
            " 2D)                                                             \n",
            "                                                                 \n",
            " conv2d_2 (Conv2D)           (None, 47, 47, 20)        1820      \n",
            "                                                                 \n",
            " max_pooling2d_2 (MaxPooling  (None, 23, 23, 20)       0         \n",
            " 2D)                                                             \n",
            "                                                                 \n",
            " conv2d_3 (Conv2D)           (None, 19, 19, 3)         1503      \n",
            "                                                                 \n",
            " flatten (Flatten)           (None, 1083)              0         \n",
            "                                                                 \n",
            " dense (Dense)               (None, 3)                 3252      \n",
            "                                                                 \n",
            "=================================================================\n",
            "Total params: 7,085\n",
            "Trainable params: 7,085\n",
            "Non-trainable params: 0\n",
            "_________________________________________________________________\n"
          ]
        }
      ]
    },
    {
      "cell_type": "code",
      "metadata": {
        "id": "sp_FNlP3k8Dx"
      },
      "source": [
        "model.compile(loss='mean_squared_error',optimizer= 'adam', metrics=['mse']);"
      ],
      "execution_count": 8,
      "outputs": []
    },
    {
      "cell_type": "code",
      "source": [
        "model.fit(training_Data[\"X_Train\"],training_Data[\"Y_Train\"], epochs = 10,verbose=1)"
      ],
      "metadata": {
        "id": "jLd_21rdNGzx",
        "colab": {
          "base_uri": "https://localhost:8080/"
        },
        "outputId": "2166c808-4f37-41dc-8110-650c2be11d96"
      },
      "execution_count": 10,
      "outputs": [
        {
          "output_type": "stream",
          "name": "stdout",
          "text": [
            "Epoch 1/10\n",
            "313/313 [==============================] - 4s 14ms/step - loss: 0.0012 - mse: 0.0012\n",
            "Epoch 2/10\n",
            "313/313 [==============================] - 4s 13ms/step - loss: 9.4563e-04 - mse: 9.4563e-04\n",
            "Epoch 3/10\n",
            "313/313 [==============================] - 4s 13ms/step - loss: 8.0610e-04 - mse: 8.0610e-04\n",
            "Epoch 4/10\n",
            "313/313 [==============================] - 4s 13ms/step - loss: 6.9545e-04 - mse: 6.9545e-04\n",
            "Epoch 5/10\n",
            "313/313 [==============================] - 4s 13ms/step - loss: 6.1464e-04 - mse: 6.1464e-04\n",
            "Epoch 6/10\n",
            "313/313 [==============================] - 4s 13ms/step - loss: 5.4851e-04 - mse: 5.4851e-04\n",
            "Epoch 7/10\n",
            "313/313 [==============================] - 4s 13ms/step - loss: 4.9015e-04 - mse: 4.9015e-04\n",
            "Epoch 8/10\n",
            "313/313 [==============================] - 4s 13ms/step - loss: 4.6169e-04 - mse: 4.6169e-04\n",
            "Epoch 9/10\n",
            "313/313 [==============================] - 4s 13ms/step - loss: 4.2333e-04 - mse: 4.2333e-04\n",
            "Epoch 10/10\n",
            "313/313 [==============================] - 4s 13ms/step - loss: 3.8358e-04 - mse: 3.8358e-04\n"
          ]
        },
        {
          "output_type": "execute_result",
          "data": {
            "text/plain": [
              "<keras.callbacks.History at 0x7f0510323190>"
            ]
          },
          "metadata": {},
          "execution_count": 10
        }
      ]
    },
    {
      "cell_type": "markdown",
      "source": [
        "#### 결과값의 유사도를 확인해보자"
      ],
      "metadata": {
        "id": "7wsjZ2FB1UBo"
      }
    },
    {
      "cell_type": "code",
      "source": [
        "IMAGE_SIZE*model.predict(training_Data['X_Train'][3].reshape(1,IMAGE_SIZE, IMAGE_SIZE,1))"
      ],
      "metadata": {
        "id": "L7zAtEG2NG5e",
        "colab": {
          "base_uri": "https://localhost:8080/"
        },
        "outputId": "2a421d5d-bd25-484c-f4eb-cea0c9cdc259"
      },
      "execution_count": 11,
      "outputs": [
        {
          "output_type": "execute_result",
          "data": {
            "text/plain": [
              "array([[108.262085, 126.249146,  29.850716]], dtype=float32)"
            ]
          },
          "metadata": {},
          "execution_count": 11
        }
      ]
    },
    {
      "cell_type": "code",
      "metadata": {
        "id": "is7rdvBQnBDm",
        "colab": {
          "base_uri": "https://localhost:8080/"
        },
        "outputId": "f9e4058a-ec60-49ff-8cef-2328a09b53c0"
      },
      "source": [
        "IMAGE_SIZE*training_Data['Y_Train'][3]"
      ],
      "execution_count": 12,
      "outputs": [
        {
          "output_type": "execute_result",
          "data": {
            "text/plain": [
              "array([112., 119.,  31.])"
            ]
          },
          "metadata": {},
          "execution_count": 12
        }
      ]
    },
    {
      "cell_type": "code",
      "source": [
        "plt.imshow(training_Data['X_Train'][3].reshape(200,200))"
      ],
      "metadata": {
        "id": "2wZNnxoBNEwP",
        "colab": {
          "base_uri": "https://localhost:8080/",
          "height": 287
        },
        "outputId": "7d3a03f7-2628-41c0-b5b9-6a0b1954b0ef"
      },
      "execution_count": 13,
      "outputs": [
        {
          "output_type": "execute_result",
          "data": {
            "text/plain": [
              "<matplotlib.image.AxesImage at 0x7f05102c1910>"
            ]
          },
          "metadata": {},
          "execution_count": 13
        },
        {
          "output_type": "display_data",
          "data": {
            "text/plain": [
              "<Figure size 432x288 with 1 Axes>"
            ],
            "image/png": "[encoded data removed]"
          },
          "metadata": {
            "needs_background": "light"
          }
        }
      ]
    },
    {
      "cell_type": "code",
      "metadata": {
        "id": "aWmdUiSAnfDO",
        "colab": {
          "base_uri": "https://localhost:8080/",
          "height": 305
        },
        "outputId": "9e65c2c0-90c4-4bec-bcad-ca9235e3e5c7"
      },
      "source": [
        "IMAGE_SIZE = 200;\n",
        "# 랜덤한 그림을 하나 만들어서 진행\n",
        "rad = random.randint(5,50);\n",
        "c_x = random.randint(rad,IMAGE_SIZE-rad);\n",
        "c_y = random.randint(rad,IMAGE_SIZE-rad);\n",
        "print([c_x, c_y, rad]) # 랜덤 도형(원) 위치 출력\n",
        "\n",
        "blank_image = np.ones(shape=[IMAGE_SIZE, IMAGE_SIZE], dtype=np.uint8)\n",
        "new_Image = cv2.circle(blank_image, (c_x,c_y), rad, 0, -1);\n",
        "plt.imshow(new_Image);\n",
        "print(IMAGE_SIZE*model.predict(new_Image.reshape(1,IMAGE_SIZE, IMAGE_SIZE,1)))"
      ],
      "execution_count": 14,
      "outputs": [
        {
          "output_type": "stream",
          "name": "stdout",
          "text": [
            "[34, 137, 24]\n",
            "[[ 25.263382 146.52246   27.552986]]\n"
          ]
        },
        {
          "output_type": "display_data",
          "data": {
            "text/plain": [
              "<Figure size 432x288 with 1 Axes>"
            ],
            "image/png": "[encoded data removed]"
          },
          "metadata": {
            "needs_background": "light"
          }
        }
      ]
    },
    {
      "cell_type": "code",
      "source": [
        ""
      ],
      "metadata": {
        "id": "APGHHVLTwnFc"
      },
      "execution_count": null,
      "outputs": []
    }
  ]
}