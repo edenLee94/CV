{
  "nbformat": 4,
  "nbformat_minor": 0,
  "metadata": {
    "colab": {
      "name": "\bGoogLeNet_pr.ipynb",
      "provenance": [],
      "collapsed_sections": []
    },
    "kernelspec": {
      "name": "python3",
      "display_name": "Python 3"
    },
    "language_info": {
      "name": "python"
    },
    "accelerator": "GPU",
    "gpuClass": "standard"
  },
  "cells": [
    {
      "cell_type": "code",
      "execution_count": null,
      "metadata": {
        "id": "j4fw0_MrIgPI"
      },
      "outputs": [],
      "source": [
        "from keras.layers import Input, Conv2D, MaxPooling2D, Dropout, BatchNormalization, Dense, Activation, add, Flatten, AveragePooling2D, concatenate\n",
        "from keras.models import Model\n",
        "from keras.preprocessing.image import ImageDataGenerator\n",
        "\n",
        "import numpy as np\n",
        "import tensorflow as tf"
      ]
    },
    {
      "cell_type": "code",
      "source": [
        "width = 32\n",
        "height = 32"
      ],
      "metadata": {
        "id": "aUgEdQkpzIZt"
      },
      "execution_count": null,
      "outputs": []
    },
    {
      "cell_type": "code",
      "source": [
        "(x_train, y_train), (x_test, y_test) = tf.keras.datasets.cifar10.load_data()"
      ],
      "metadata": {
        "colab": {
          "base_uri": "https://localhost:8080/"
        },
        "id": "leCC2xAWzKpe",
        "outputId": "936dae43-6df2-4a14-819f-fa6a48031889"
      },
      "execution_count": null,
      "outputs": [
        {
          "output_type": "stream",
          "name": "stdout",
          "text": [
            "Downloading data from https://www.cs.toronto.edu/~kriz/cifar-10-python.tar.gz\n",
            "170500096/170498071 [==============================] - 2s 0us/step\n",
            "170508288/170498071 [==============================] - 2s 0us/step\n"
          ]
        }
      ]
    },
    {
      "cell_type": "code",
      "source": [
        "from keras.utils import np_utils"
      ],
      "metadata": {
        "id": "rrzkLCv1zB-n"
      },
      "execution_count": null,
      "outputs": []
    },
    {
      "cell_type": "code",
      "source": [
        "num_classes = 10\n",
        "y_train = np_utils.to_categorical(y_train)\n",
        "y_test = np_utils.to_categorical(y_test)"
      ],
      "metadata": {
        "id": "I9I4R4-mzLwk"
      },
      "execution_count": null,
      "outputs": []
    },
    {
      "cell_type": "code",
      "source": [
        "val_images, val_labels = x_train[:500], y_train[:500]\n",
        "train_images, train_labels = x_train[500:], y_train[500:]"
      ],
      "metadata": {
        "id": "QSNrVrAOzNSX"
      },
      "execution_count": null,
      "outputs": []
    },
    {
      "cell_type": "markdown",
      "source": [
        "inception module 사용을 위해서 따로 설정해주는 것이 좋다. filters값은 여러개로 들어오는 형태이다. 논문의 그림을 보면 이해할 수 있다.\n",
        "\n",
        "*   feature를 효율적으로 추출하기 위해, 1x1, 3x3, 5x5 convolution 연산을 각각 수행\n",
        "\n"
      ],
      "metadata": {
        "id": "CjuqVpjv4bj-"
      }
    },
    {
      "cell_type": "code",
      "source": [
        "def inception(x, filters): \n",
        "    pre_layer = x\n",
        "    \n",
        "    f1,f2,f3,f4 = filters\n",
        "    # 1x1\n",
        "    conv1 = Conv2D(f1, kernel_size=(1,1), padding='same', activation='relu')(pre_layer)\n",
        "    \n",
        "    # 1x1, 3x3 conv\n",
        "    conv2 = Conv2D(f4  , kernel_size=(1,1), padding='same', activation='relu')(pre_layer)\n",
        "    conv2 = Conv2D(f2, kernel_size=(3,3), padding='same', activation='relu')(conv2)\n",
        "\n",
        "    # 1x1, 5x5 conv\n",
        "    conv3 = Conv2D(f4, kernel_size=(1,1), padding='same', activation='relu')(pre_layer)\n",
        "    conv3 = Conv2D(f3, kernel_size=(5,5), padding='same', activation='relu')(conv3)\n",
        "    # pooling layer, 1x1 conv\n",
        "    max_pool = MaxPooling2D(pool_size=(3,3), strides=1, padding='same')(pre_layer)\n",
        "    max_pool = Conv2D(f4, kernel_size=(1,1), padding='same')(max_pool)\n",
        "\n",
        "    # output = [None(batch_size), w,h,c], c 기준 concatenate (axis = -1 )\n",
        "    concat = concatenate([conv1, conv2, conv3, max_pool], axis=-1)\n",
        "    \n",
        "    return concat\n",
        "    "
      ],
      "metadata": {
        "id": "pw0XaFPrzPGk"
      },
      "execution_count": null,
      "outputs": []
    },
    {
      "cell_type": "markdown",
      "source": [
        "논문에서 제공한 표를 보면서 모델을 구현하면 비교적 쉽게 사용할 수 있다.\n",
        "생각보다 복잡해서 구현하기 쉽지않았다."
      ],
      "metadata": {
        "id": "ya6ytFD15iBk"
      }
    },
    {
      "cell_type": "code",
      "source": [
        "input_shape = x_train[0].shape    \n",
        "inputs = Input(shape=input_shape)\n",
        "\n",
        "# conv랑 batch 사이에 max pooling 들어가야 하나, cifar 데이터에선 크기 너무 줄어들어서 빼고 진행할 예정이다.\n",
        "x = Conv2D(64, kernel_size=(7,7), strides=2, padding='same', activation='relu')(inputs)\n",
        "x = BatchNormalization()(x)\n",
        "x = Conv2D(192, kernel_size=(3,3), padding='same', activation='relu')(x)\n",
        "x = BatchNormalization()(x) \n",
        "\n",
        "#inception형태는 (input, [1x1, 3x3, 5x5conv, 1x1] )\n",
        "\n",
        "# inception-3a part\n",
        "x = inception(x,[64,128,32,32])\n",
        "# inception-3b part\n",
        "x = inception(x,[128,192,96,64])\n",
        "x = MaxPooling2D(pool_size=(3,3), strides=2, padding='same')(x)\n",
        "\n",
        "# inception-4a part\n",
        "x = inception(x,[192,208,48,64])\n",
        "aux1 = AveragePooling2D(pool_size=(5,5),strides = 3, padding='valid')(x)\n",
        "aux1 = Conv2D(128, kernel_size=(1,1), padding='same', activation='relu')(aux1)\n",
        "aux1 = Flatten()(aux1)\n",
        "aux1 = Dense(512, activation='relu')(aux1)\n",
        "aux1 = Dense(10, activation='softmax')(aux1)\n",
        "\n",
        "# inception-4b part\n",
        "x = inception(x,[160,224,64,64])\n",
        "# inception-4c part\n",
        "x = inception(x,[128,256,64,64])\n",
        "\n",
        "# inception-4d part\n",
        "x = inception(x,[112,288,64,64])\n",
        "aux2 = AveragePooling2D(pool_size=(5,5),strides = 3, padding='valid')(x)\n",
        "aux2 = Conv2D(128, kernel_size=(1,1), padding='same', activation='relu')(aux2)\n",
        "aux2 = Flatten()(aux2)\n",
        "aux2 = Dense(832, activation='relu')(aux2)\n",
        "aux2 = Dense(10, activation='softmax')(aux2)\n",
        "\n",
        "# inception-4e part\n",
        "x = inception(x,[256,320,128,128])\n",
        "\n",
        "\n",
        "# inception-5a part\n",
        "x = inception(x,[256,320,128,128])\n",
        "# inception-5b part\n",
        "x = inception(x,[384,384,128,128])\n",
        "x = AveragePooling2D(pool_size=(4,4), padding='valid')(x)\n",
        "x = Dropout(0.4)(x)\n",
        "x = Flatten()(x)\n",
        "\n",
        "outputs = Dense(10, activation='softmax')(x)"
      ],
      "metadata": {
        "id": "ssU_XLP-zotu"
      },
      "execution_count": null,
      "outputs": []
    },
    {
      "cell_type": "code",
      "source": [
        "model = Model(inputs=inputs, outputs=[aux1, aux2, outputs])\n",
        "\n",
        "model.compile(optimizer='adam', loss='categorical_crossentropy', loss_weights=[0.3,0.3,1.0], metrics=['accuracy'])\n",
        "# loss_weights를 통해서 어떤게 중요한지에 대해서 결정하기 위해서 설정해준다. \n"
      ],
      "metadata": {
        "id": "q0jzrkc0ztSP"
      },
      "execution_count": null,
      "outputs": []
    },
    {
      "cell_type": "code",
      "source": [
        "model.summary()"
      ],
      "metadata": {
        "colab": {
          "base_uri": "https://localhost:8080/"
        },
        "id": "AZeQC5Xiz1I-",
        "outputId": "43a78677-6a5c-4b18-d57a-6e3d1cf5cffb"
      },
      "execution_count": null,
      "outputs": [
        {
          "output_type": "stream",
          "name": "stdout",
          "text": [
            "Model: \"model\"\n",
            "__________________________________________________________________________________________________\n",
            " Layer (type)                   Output Shape         Param #     Connected to                     \n",
            "==================================================================================================\n",
            " input_2 (InputLayer)           [(None, 32, 32, 3)]  0           []                               \n",
            "                                                                                                  \n",
            " conv2d_58 (Conv2D)             (None, 16, 16, 64)   9472        ['input_2[0][0]']                \n",
            "                                                                                                  \n",
            " batch_normalization_2 (BatchNo  (None, 16, 16, 64)  256         ['conv2d_58[0][0]']              \n",
            " rmalization)                                                                                     \n",
            "                                                                                                  \n",
            " conv2d_59 (Conv2D)             (None, 16, 16, 192)  110784      ['batch_normalization_2[0][0]']  \n",
            "                                                                                                  \n",
            " batch_normalization_3 (BatchNo  (None, 16, 16, 192)  768        ['conv2d_59[0][0]']              \n",
            " rmalization)                                                                                     \n",
            "                                                                                                  \n",
            " conv2d_61 (Conv2D)             (None, 16, 16, 32)   6176        ['batch_normalization_3[0][0]']  \n",
            "                                                                                                  \n",
            " conv2d_63 (Conv2D)             (None, 16, 16, 32)   6176        ['batch_normalization_3[0][0]']  \n",
            "                                                                                                  \n",
            " max_pooling2d_10 (MaxPooling2D  (None, 16, 16, 192)  0          ['batch_normalization_3[0][0]']  \n",
            " )                                                                                                \n",
            "                                                                                                  \n",
            " conv2d_60 (Conv2D)             (None, 16, 16, 64)   12352       ['batch_normalization_3[0][0]']  \n",
            "                                                                                                  \n",
            " conv2d_62 (Conv2D)             (None, 16, 16, 128)  36992       ['conv2d_61[0][0]']              \n",
            "                                                                                                  \n",
            " conv2d_64 (Conv2D)             (None, 16, 16, 32)   25632       ['conv2d_63[0][0]']              \n",
            "                                                                                                  \n",
            " conv2d_65 (Conv2D)             (None, 16, 16, 32)   6176        ['max_pooling2d_10[0][0]']       \n",
            "                                                                                                  \n",
            " concatenate_9 (Concatenate)    (None, 16, 16, 256)  0           ['conv2d_60[0][0]',              \n",
            "                                                                  'conv2d_62[0][0]',              \n",
            "                                                                  'conv2d_64[0][0]',              \n",
            "                                                                  'conv2d_65[0][0]']              \n",
            "                                                                                                  \n",
            " conv2d_67 (Conv2D)             (None, 16, 16, 64)   16448       ['concatenate_9[0][0]']          \n",
            "                                                                                                  \n",
            " conv2d_69 (Conv2D)             (None, 16, 16, 64)   16448       ['concatenate_9[0][0]']          \n",
            "                                                                                                  \n",
            " max_pooling2d_11 (MaxPooling2D  (None, 16, 16, 256)  0          ['concatenate_9[0][0]']          \n",
            " )                                                                                                \n",
            "                                                                                                  \n",
            " conv2d_66 (Conv2D)             (None, 16, 16, 128)  32896       ['concatenate_9[0][0]']          \n",
            "                                                                                                  \n",
            " conv2d_68 (Conv2D)             (None, 16, 16, 192)  110784      ['conv2d_67[0][0]']              \n",
            "                                                                                                  \n",
            " conv2d_70 (Conv2D)             (None, 16, 16, 96)   153696      ['conv2d_69[0][0]']              \n",
            "                                                                                                  \n",
            " conv2d_71 (Conv2D)             (None, 16, 16, 64)   16448       ['max_pooling2d_11[0][0]']       \n",
            "                                                                                                  \n",
            " concatenate_10 (Concatenate)   (None, 16, 16, 480)  0           ['conv2d_66[0][0]',              \n",
            "                                                                  'conv2d_68[0][0]',              \n",
            "                                                                  'conv2d_70[0][0]',              \n",
            "                                                                  'conv2d_71[0][0]']              \n",
            "                                                                                                  \n",
            " max_pooling2d_12 (MaxPooling2D  (None, 8, 8, 480)   0           ['concatenate_10[0][0]']         \n",
            " )                                                                                                \n",
            "                                                                                                  \n",
            " conv2d_73 (Conv2D)             (None, 8, 8, 64)     30784       ['max_pooling2d_12[0][0]']       \n",
            "                                                                                                  \n",
            " conv2d_75 (Conv2D)             (None, 8, 8, 64)     30784       ['max_pooling2d_12[0][0]']       \n",
            "                                                                                                  \n",
            " max_pooling2d_13 (MaxPooling2D  (None, 8, 8, 480)   0           ['max_pooling2d_12[0][0]']       \n",
            " )                                                                                                \n",
            "                                                                                                  \n",
            " conv2d_72 (Conv2D)             (None, 8, 8, 192)    92352       ['max_pooling2d_12[0][0]']       \n",
            "                                                                                                  \n",
            " conv2d_74 (Conv2D)             (None, 8, 8, 208)    120016      ['conv2d_73[0][0]']              \n",
            "                                                                                                  \n",
            " conv2d_76 (Conv2D)             (None, 8, 8, 48)     76848       ['conv2d_75[0][0]']              \n",
            "                                                                                                  \n",
            " conv2d_77 (Conv2D)             (None, 8, 8, 64)     30784       ['max_pooling2d_13[0][0]']       \n",
            "                                                                                                  \n",
            " concatenate_11 (Concatenate)   (None, 8, 8, 512)    0           ['conv2d_72[0][0]',              \n",
            "                                                                  'conv2d_74[0][0]',              \n",
            "                                                                  'conv2d_76[0][0]',              \n",
            "                                                                  'conv2d_77[0][0]']              \n",
            "                                                                                                  \n",
            " conv2d_80 (Conv2D)             (None, 8, 8, 64)     32832       ['concatenate_11[0][0]']         \n",
            "                                                                                                  \n",
            " conv2d_82 (Conv2D)             (None, 8, 8, 64)     32832       ['concatenate_11[0][0]']         \n",
            "                                                                                                  \n",
            " max_pooling2d_14 (MaxPooling2D  (None, 8, 8, 512)   0           ['concatenate_11[0][0]']         \n",
            " )                                                                                                \n",
            "                                                                                                  \n",
            " conv2d_79 (Conv2D)             (None, 8, 8, 160)    82080       ['concatenate_11[0][0]']         \n",
            "                                                                                                  \n",
            " conv2d_81 (Conv2D)             (None, 8, 8, 224)    129248      ['conv2d_80[0][0]']              \n",
            "                                                                                                  \n",
            " conv2d_83 (Conv2D)             (None, 8, 8, 64)     102464      ['conv2d_82[0][0]']              \n",
            "                                                                                                  \n",
            " conv2d_84 (Conv2D)             (None, 8, 8, 64)     32832       ['max_pooling2d_14[0][0]']       \n",
            "                                                                                                  \n",
            " concatenate_12 (Concatenate)   (None, 8, 8, 512)    0           ['conv2d_79[0][0]',              \n",
            "                                                                  'conv2d_81[0][0]',              \n",
            "                                                                  'conv2d_83[0][0]',              \n",
            "                                                                  'conv2d_84[0][0]']              \n",
            "                                                                                                  \n",
            " conv2d_86 (Conv2D)             (None, 8, 8, 64)     32832       ['concatenate_12[0][0]']         \n",
            "                                                                                                  \n",
            " conv2d_88 (Conv2D)             (None, 8, 8, 64)     32832       ['concatenate_12[0][0]']         \n",
            "                                                                                                  \n",
            " max_pooling2d_15 (MaxPooling2D  (None, 8, 8, 512)   0           ['concatenate_12[0][0]']         \n",
            " )                                                                                                \n",
            "                                                                                                  \n",
            " conv2d_85 (Conv2D)             (None, 8, 8, 128)    65664       ['concatenate_12[0][0]']         \n",
            "                                                                                                  \n",
            " conv2d_87 (Conv2D)             (None, 8, 8, 256)    147712      ['conv2d_86[0][0]']              \n",
            "                                                                                                  \n",
            " conv2d_89 (Conv2D)             (None, 8, 8, 64)     102464      ['conv2d_88[0][0]']              \n",
            "                                                                                                  \n",
            " conv2d_90 (Conv2D)             (None, 8, 8, 64)     32832       ['max_pooling2d_15[0][0]']       \n",
            "                                                                                                  \n",
            " concatenate_13 (Concatenate)   (None, 8, 8, 512)    0           ['conv2d_85[0][0]',              \n",
            "                                                                  'conv2d_87[0][0]',              \n",
            "                                                                  'conv2d_89[0][0]',              \n",
            "                                                                  'conv2d_90[0][0]']              \n",
            "                                                                                                  \n",
            " conv2d_92 (Conv2D)             (None, 8, 8, 64)     32832       ['concatenate_13[0][0]']         \n",
            "                                                                                                  \n",
            " conv2d_94 (Conv2D)             (None, 8, 8, 64)     32832       ['concatenate_13[0][0]']         \n",
            "                                                                                                  \n",
            " max_pooling2d_16 (MaxPooling2D  (None, 8, 8, 512)   0           ['concatenate_13[0][0]']         \n",
            " )                                                                                                \n",
            "                                                                                                  \n",
            " conv2d_91 (Conv2D)             (None, 8, 8, 112)    57456       ['concatenate_13[0][0]']         \n",
            "                                                                                                  \n",
            " conv2d_93 (Conv2D)             (None, 8, 8, 288)    166176      ['conv2d_92[0][0]']              \n",
            "                                                                                                  \n",
            " conv2d_95 (Conv2D)             (None, 8, 8, 64)     102464      ['conv2d_94[0][0]']              \n",
            "                                                                                                  \n",
            " conv2d_96 (Conv2D)             (None, 8, 8, 64)     32832       ['max_pooling2d_16[0][0]']       \n",
            "                                                                                                  \n",
            " concatenate_14 (Concatenate)   (None, 8, 8, 528)    0           ['conv2d_91[0][0]',              \n",
            "                                                                  'conv2d_93[0][0]',              \n",
            "                                                                  'conv2d_95[0][0]',              \n",
            "                                                                  'conv2d_96[0][0]']              \n",
            "                                                                                                  \n",
            " conv2d_99 (Conv2D)             (None, 8, 8, 128)    67712       ['concatenate_14[0][0]']         \n",
            "                                                                                                  \n",
            " conv2d_101 (Conv2D)            (None, 8, 8, 128)    67712       ['concatenate_14[0][0]']         \n",
            "                                                                                                  \n",
            " max_pooling2d_17 (MaxPooling2D  (None, 8, 8, 528)   0           ['concatenate_14[0][0]']         \n",
            " )                                                                                                \n",
            "                                                                                                  \n",
            " conv2d_98 (Conv2D)             (None, 8, 8, 256)    135424      ['concatenate_14[0][0]']         \n",
            "                                                                                                  \n",
            " conv2d_100 (Conv2D)            (None, 8, 8, 320)    368960      ['conv2d_99[0][0]']              \n",
            "                                                                                                  \n",
            " conv2d_102 (Conv2D)            (None, 8, 8, 128)    409728      ['conv2d_101[0][0]']             \n",
            "                                                                                                  \n",
            " conv2d_103 (Conv2D)            (None, 8, 8, 128)    67712       ['max_pooling2d_17[0][0]']       \n",
            "                                                                                                  \n",
            " concatenate_15 (Concatenate)   (None, 8, 8, 832)    0           ['conv2d_98[0][0]',              \n",
            "                                                                  'conv2d_100[0][0]',             \n",
            "                                                                  'conv2d_102[0][0]',             \n",
            "                                                                  'conv2d_103[0][0]']             \n",
            "                                                                                                  \n",
            " conv2d_105 (Conv2D)            (None, 8, 8, 128)    106624      ['concatenate_15[0][0]']         \n",
            "                                                                                                  \n",
            " conv2d_107 (Conv2D)            (None, 8, 8, 128)    106624      ['concatenate_15[0][0]']         \n",
            "                                                                                                  \n",
            " max_pooling2d_18 (MaxPooling2D  (None, 8, 8, 832)   0           ['concatenate_15[0][0]']         \n",
            " )                                                                                                \n",
            "                                                                                                  \n",
            " conv2d_104 (Conv2D)            (None, 8, 8, 256)    213248      ['concatenate_15[0][0]']         \n",
            "                                                                                                  \n",
            " conv2d_106 (Conv2D)            (None, 8, 8, 320)    368960      ['conv2d_105[0][0]']             \n",
            "                                                                                                  \n",
            " conv2d_108 (Conv2D)            (None, 8, 8, 128)    409728      ['conv2d_107[0][0]']             \n",
            "                                                                                                  \n",
            " conv2d_109 (Conv2D)            (None, 8, 8, 128)    106624      ['max_pooling2d_18[0][0]']       \n",
            "                                                                                                  \n",
            " concatenate_16 (Concatenate)   (None, 8, 8, 832)    0           ['conv2d_104[0][0]',             \n",
            "                                                                  'conv2d_106[0][0]',             \n",
            "                                                                  'conv2d_108[0][0]',             \n",
            "                                                                  'conv2d_109[0][0]']             \n",
            "                                                                                                  \n",
            " conv2d_111 (Conv2D)            (None, 8, 8, 128)    106624      ['concatenate_16[0][0]']         \n",
            "                                                                                                  \n",
            " conv2d_113 (Conv2D)            (None, 8, 8, 128)    106624      ['concatenate_16[0][0]']         \n",
            "                                                                                                  \n",
            " max_pooling2d_19 (MaxPooling2D  (None, 8, 8, 832)   0           ['concatenate_16[0][0]']         \n",
            " )                                                                                                \n",
            "                                                                                                  \n",
            " conv2d_110 (Conv2D)            (None, 8, 8, 384)    319872      ['concatenate_16[0][0]']         \n",
            "                                                                                                  \n",
            " conv2d_112 (Conv2D)            (None, 8, 8, 384)    442752      ['conv2d_111[0][0]']             \n",
            "                                                                                                  \n",
            " conv2d_114 (Conv2D)            (None, 8, 8, 128)    409728      ['conv2d_113[0][0]']             \n",
            "                                                                                                  \n",
            " conv2d_115 (Conv2D)            (None, 8, 8, 128)    106624      ['max_pooling2d_19[0][0]']       \n",
            "                                                                                                  \n",
            " average_pooling2d_3 (AveragePo  (None, 2, 2, 512)   0           ['concatenate_11[0][0]']         \n",
            " oling2D)                                                                                         \n",
            "                                                                                                  \n",
            " average_pooling2d_4 (AveragePo  (None, 2, 2, 528)   0           ['concatenate_14[0][0]']         \n",
            " oling2D)                                                                                         \n",
            "                                                                                                  \n",
            " concatenate_17 (Concatenate)   (None, 8, 8, 1024)   0           ['conv2d_110[0][0]',             \n",
            "                                                                  'conv2d_112[0][0]',             \n",
            "                                                                  'conv2d_114[0][0]',             \n",
            "                                                                  'conv2d_115[0][0]']             \n",
            "                                                                                                  \n",
            " conv2d_78 (Conv2D)             (None, 2, 2, 128)    65664       ['average_pooling2d_3[0][0]']    \n",
            "                                                                                                  \n",
            " conv2d_97 (Conv2D)             (None, 2, 2, 128)    67712       ['average_pooling2d_4[0][0]']    \n",
            "                                                                                                  \n",
            " average_pooling2d_5 (AveragePo  (None, 2, 2, 1024)  0           ['concatenate_17[0][0]']         \n",
            " oling2D)                                                                                         \n",
            "                                                                                                  \n",
            " flatten_3 (Flatten)            (None, 512)          0           ['conv2d_78[0][0]']              \n",
            "                                                                                                  \n",
            " flatten_4 (Flatten)            (None, 512)          0           ['conv2d_97[0][0]']              \n",
            "                                                                                                  \n",
            " dropout_1 (Dropout)            (None, 2, 2, 1024)   0           ['average_pooling2d_5[0][0]']    \n",
            "                                                                                                  \n",
            " dense_5 (Dense)                (None, 512)          262656      ['flatten_3[0][0]']              \n",
            "                                                                                                  \n",
            " dense_7 (Dense)                (None, 832)          426816      ['flatten_4[0][0]']              \n",
            "                                                                                                  \n",
            " flatten_5 (Flatten)            (None, 4096)         0           ['dropout_1[0][0]']              \n",
            "                                                                                                  \n",
            " dense_6 (Dense)                (None, 10)           5130        ['dense_5[0][0]']                \n",
            "                                                                                                  \n",
            " dense_8 (Dense)                (None, 10)           8330        ['dense_7[0][0]']                \n",
            "                                                                                                  \n",
            " dense_9 (Dense)                (None, 10)           40970       ['flatten_5[0][0]']              \n",
            "                                                                                                  \n",
            "==================================================================================================\n",
            "Total params: 6,992,846\n",
            "Trainable params: 6,992,334\n",
            "Non-trainable params: 512\n",
            "__________________________________________________________________________________________________\n"
          ]
        }
      ]
    },
    {
      "cell_type": "code",
      "source": [
        "train_datagenerator = ImageDataGenerator(rescale = 1./255,\n",
        "                                   shear_range = 0.2,\n",
        "                                   zoom_range = 0.2,\n",
        "                                   horizontal_flip = True)\n",
        "\n",
        "validation_datagenerator = ImageDataGenerator(rescale = 1./255,\n",
        "                                   shear_range = 0.2,\n",
        "                                   zoom_range = 0.2,\n",
        "                                   horizontal_flip = True)"
      ],
      "metadata": {
        "id": "vqziWOGSz3b_"
      },
      "execution_count": null,
      "outputs": []
    },
    {
      "cell_type": "code",
      "source": [
        "history = model.fit(train_datagenerator.flow(train_images,train_labels, batch_size = 32), \n",
        "                    validation_data = validation_datagenerator.flow(val_images, val_labels, batch_size = 32),\n",
        "                    epochs = 10)"
      ],
      "metadata": {
        "colab": {
          "base_uri": "https://localhost:8080/"
        },
        "id": "Z-2P3_wGz5S3",
        "outputId": "bd7f862f-2f16-414a-dd8e-0ec35117dab6"
      },
      "execution_count": null,
      "outputs": [
        {
          "output_type": "stream",
          "name": "stdout",
          "text": [
            "Epoch 1/10\n",
            "1547/1547 [==============================] - 104s 55ms/step - loss: 2.6036 - dense_6_loss: 1.5614 - dense_8_loss: 1.6155 - dense_9_loss: 1.6505 - dense_6_accuracy: 0.4243 - dense_8_accuracy: 0.4009 - dense_9_accuracy: 0.3908 - val_loss: 2.1117 - val_dense_6_loss: 1.2723 - val_dense_8_loss: 1.3384 - val_dense_9_loss: 1.3285 - val_dense_6_accuracy: 0.5500 - val_dense_8_accuracy: 0.5140 - val_dense_9_accuracy: 0.5300\n",
            "Epoch 2/10\n",
            "1547/1547 [==============================] - 82s 53ms/step - loss: 1.9531 - dense_6_loss: 1.1713 - dense_8_loss: 1.2068 - dense_9_loss: 1.2397 - dense_6_accuracy: 0.5803 - dense_8_accuracy: 0.5671 - dense_9_accuracy: 0.5565 - val_loss: 1.5589 - val_dense_6_loss: 0.9868 - val_dense_8_loss: 0.9506 - val_dense_9_loss: 0.9777 - val_dense_6_accuracy: 0.6540 - val_dense_8_accuracy: 0.6620 - val_dense_9_accuracy: 0.6600\n",
            "Epoch 3/10\n",
            "1547/1547 [==============================] - 83s 53ms/step - loss: 1.6106 - dense_6_loss: 0.9733 - dense_8_loss: 0.9910 - dense_9_loss: 1.0213 - dense_6_accuracy: 0.6553 - dense_8_accuracy: 0.6503 - dense_9_accuracy: 0.6402 - val_loss: 1.5655 - val_dense_6_loss: 0.9861 - val_dense_8_loss: 0.9766 - val_dense_9_loss: 0.9766 - val_dense_6_accuracy: 0.6560 - val_dense_8_accuracy: 0.6460 - val_dense_9_accuracy: 0.6600\n",
            "Epoch 4/10\n",
            "1547/1547 [==============================] - 83s 54ms/step - loss: 1.4348 - dense_6_loss: 0.8690 - dense_8_loss: 0.8789 - dense_9_loss: 0.9104 - dense_6_accuracy: 0.6931 - dense_8_accuracy: 0.6941 - dense_9_accuracy: 0.6838 - val_loss: 1.3029 - val_dense_6_loss: 0.8351 - val_dense_8_loss: 0.8168 - val_dense_9_loss: 0.8074 - val_dense_6_accuracy: 0.7040 - val_dense_8_accuracy: 0.7180 - val_dense_9_accuracy: 0.7260\n",
            "Epoch 5/10\n",
            "1547/1547 [==============================] - 83s 54ms/step - loss: 1.2920 - dense_6_loss: 0.7854 - dense_8_loss: 0.7902 - dense_9_loss: 0.8193 - dense_6_accuracy: 0.7250 - dense_8_accuracy: 0.7228 - dense_9_accuracy: 0.7146 - val_loss: 1.2804 - val_dense_6_loss: 0.7666 - val_dense_8_loss: 0.7876 - val_dense_9_loss: 0.8141 - val_dense_6_accuracy: 0.7380 - val_dense_8_accuracy: 0.7320 - val_dense_9_accuracy: 0.7300\n",
            "Epoch 6/10\n",
            "1547/1547 [==============================] - 83s 54ms/step - loss: 1.1920 - dense_6_loss: 0.7264 - dense_8_loss: 0.7261 - dense_9_loss: 0.7563 - dense_6_accuracy: 0.7462 - dense_8_accuracy: 0.7501 - dense_9_accuracy: 0.7409 - val_loss: 1.1051 - val_dense_6_loss: 0.7063 - val_dense_8_loss: 0.7022 - val_dense_9_loss: 0.6826 - val_dense_6_accuracy: 0.7540 - val_dense_8_accuracy: 0.7660 - val_dense_9_accuracy: 0.7620\n",
            "Epoch 7/10\n",
            "1547/1547 [==============================] - 81s 53ms/step - loss: 1.1108 - dense_6_loss: 0.6776 - dense_8_loss: 0.6761 - dense_9_loss: 0.7047 - dense_6_accuracy: 0.7656 - dense_8_accuracy: 0.7690 - dense_9_accuracy: 0.7583 - val_loss: 1.1606 - val_dense_6_loss: 0.7682 - val_dense_8_loss: 0.7360 - val_dense_9_loss: 0.7094 - val_dense_6_accuracy: 0.7400 - val_dense_8_accuracy: 0.7420 - val_dense_9_accuracy: 0.7540\n",
            "Epoch 8/10\n",
            "1547/1547 [==============================] - 81s 53ms/step - loss: 1.0398 - dense_6_loss: 0.6328 - dense_8_loss: 0.6319 - dense_9_loss: 0.6604 - dense_6_accuracy: 0.7803 - dense_8_accuracy: 0.7834 - dense_9_accuracy: 0.7758 - val_loss: 1.0014 - val_dense_6_loss: 0.6289 - val_dense_8_loss: 0.6242 - val_dense_9_loss: 0.6255 - val_dense_6_accuracy: 0.7820 - val_dense_8_accuracy: 0.7800 - val_dense_9_accuracy: 0.7900\n",
            "Epoch 9/10\n",
            "1547/1547 [==============================] - 81s 52ms/step - loss: 0.9961 - dense_6_loss: 0.6121 - dense_8_loss: 0.6032 - dense_9_loss: 0.6315 - dense_6_accuracy: 0.7876 - dense_8_accuracy: 0.7928 - dense_9_accuracy: 0.7849 - val_loss: 1.0557 - val_dense_6_loss: 0.6414 - val_dense_8_loss: 0.6497 - val_dense_9_loss: 0.6684 - val_dense_6_accuracy: 0.7680 - val_dense_8_accuracy: 0.7720 - val_dense_9_accuracy: 0.7580\n",
            "Epoch 10/10\n",
            "1547/1547 [==============================] - 81s 52ms/step - loss: 0.9625 - dense_6_loss: 0.5874 - dense_8_loss: 0.5802 - dense_9_loss: 0.6122 - dense_6_accuracy: 0.7958 - dense_8_accuracy: 0.8009 - dense_9_accuracy: 0.7929 - val_loss: 0.9229 - val_dense_6_loss: 0.6035 - val_dense_8_loss: 0.5638 - val_dense_9_loss: 0.5728 - val_dense_6_accuracy: 0.8180 - val_dense_8_accuracy: 0.8200 - val_dense_9_accuracy: 0.8060\n"
          ]
        }
      ]
    },
    {
      "cell_type": "markdown",
      "source": [
        "### loss, accuracy에 대한 설명을 그래프를 통해서 진행해볼 예정이다."
      ],
      "metadata": {
        "id": "hmcuBcK7ogkx"
      }
    },
    {
      "cell_type": "code",
      "source": [
        ""
      ],
      "metadata": {
        "id": "Az5u5-Oso0br"
      },
      "execution_count": null,
      "outputs": []
    }
  ]
}